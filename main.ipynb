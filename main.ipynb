{
 "cells": [
  {
   "cell_type": "code",
   "execution_count": 1,
   "id": "a25bfc04-4128-49d0-a891-a44cd918935b",
   "metadata": {
    "tags": []
   },
   "outputs": [],
   "source": [
    "# !pip install opencv-python numpy"
   ]
  },
  {
   "cell_type": "code",
   "execution_count": 2,
   "id": "229275a6-9293-4a1e-a6d3-2d9ce5a73cb4",
   "metadata": {},
   "outputs": [],
   "source": [
    "import cv2\n",
    "import numpy as np\n",
    "import glob\n",
    "import os\n",
    "import re"
   ]
  },
  {
   "cell_type": "code",
   "execution_count": 3,
   "id": "091115bb-6223-472a-8994-ef60cd85e2c3",
   "metadata": {
    "tags": []
   },
   "outputs": [],
   "source": [
    "CHESS_PIECE_DIR = glob.glob('chess_piece/*.*')\n",
    "CHESS_BOARD_DIR = glob.glob('test/*.*')\n",
    "CHESS_BOARD_OUTPUT_DIR = os.path.join('dist')\n",
    "\n",
    "SHOW_IMAGE = True\n",
    "EXPORT_IMAGE = True"
   ]
  },
  {
   "cell_type": "code",
   "execution_count": 4,
   "id": "bcd77b6b-bce0-46df-bc16-eeebb1e94059",
   "metadata": {
    "tags": []
   },
   "outputs": [],
   "source": [
    "# The threshold values for each chess piece can be adjusted according to the image quality\n",
    "chessPieceThreshold = {\n",
    "    'B': 0.2, #bishop\n",
    "    'b': 0.3, #bishop_black\n",
    "    'K': 0.2, #king\n",
    "    'k': 0.2, #king_black\n",
    "    'N': 0.1, #knight\n",
    "    'n': 0.2, #knight_black\n",
    "    'P': 0.15,#pawn\n",
    "    'p': 0.3, #pawn_black\n",
    "    'Q': 0.2, #queen\n",
    "    'q': 0.2, #queen_black\n",
    "    'R': 0.2, #rook\n",
    "    'r': 0.2, #rook_black\n",
    "}\n",
    "\n",
    "chessPieceImages = dict()\n",
    "\n",
    "for path in CHESS_PIECE_DIR:\n",
    "    baseName = os.path.basename(path)\n",
    "    fileName = re.search('[\\w() -]+?(?=\\.)', baseName).group(0)[0]\n",
    "    pieceImage = cv2.imread(path, cv2.IMREAD_UNCHANGED)\n",
    "    chessPieceImages[fileName] = (pieceImage, chessPieceThreshold[fileName])"
   ]
  },
  {
   "cell_type": "code",
   "execution_count": 5,
   "id": "845f0f8c-7cd0-4e69-b746-5fb5e8d0cf18",
   "metadata": {
    "tags": []
   },
   "outputs": [],
   "source": [
    "chessBoardImages = dict()\n",
    "\n",
    "for idx, path in enumerate(CHESS_BOARD_DIR):\n",
    "    baseName = os.path.basename(path)\n",
    "    fileName = re.search('[\\w() -]+?(?=\\.)', baseName).group(0)\n",
    "    boardImage = cv2.imread(path)\n",
    "    chessBoardImages[fileName] = boardImage"
   ]
  },
  {
   "cell_type": "code",
   "execution_count": 6,
   "id": "a107d91a-975e-4ce5-82f6-edd9c8275f98",
   "metadata": {
    "tags": []
   },
   "outputs": [],
   "source": [
    "def detectPieceOfChess(boardName, boardImage):\n",
    "    for piece in chessPieceImages:\n",
    "        pieceImage = chessPieceImages[piece][0]\n",
    "        pieceThreshold = chessPieceImages[piece][1]\n",
    "        pieceName = piece\n",
    "        \n",
    "        boardImageGray = cv2.cvtColor(boardImage, cv2.COLOR_BGR2GRAY)\n",
    "        pieceImageGray = cv2.cvtColor(pieceImage, cv2.COLOR_BGR2GRAY)\n",
    "        \n",
    "        mask = pieceImage[:,:,3]\n",
    "        h, w = pieceImageGray.shape\n",
    "            \n",
    "        result = cv2.matchTemplate(boardImageGray, pieceImageGray, cv2.TM_SQDIFF_NORMED, mask=mask)\n",
    "        min_val, max_val, min_loc, max_loc = cv2.minMaxLoc(result)\n",
    "        \n",
    "        while min_val < pieceThreshold:\n",
    "            top_left = min_loc\n",
    "            bottom_right = (top_left[0] + w, top_left[1] + h)\n",
    "            \n",
    "            rectangleColor = (0,250,50)\n",
    "            cv2.rectangle(boardImage, top_left, bottom_right, rectangleColor, 2)\n",
    "                          \n",
    "            textColor = (255,0,0) if pieceName.isupper() else (0,0,255) # white piece is blue and black piece is red\n",
    "            textPosition =  (top_left[0], top_left[1] + 20)\n",
    "            cv2.putText(boardImage, pieceName, textPosition, cv2.FONT_HERSHEY_SIMPLEX, 0.7, textColor, 2, cv2.LINE_AA)\n",
    "            \n",
    "            # overwrite the portion of the result that has the match:\n",
    "            h1 = top_left[1]-h//2\n",
    "            h1 = np.clip(h1, 0, result.shape[0])\n",
    "\n",
    "            h2 = top_left[1] + h//2 + 1\n",
    "            h2 = np.clip(h2, 0, result.shape[0])\n",
    "\n",
    "            w1 = top_left[0] - w//2\n",
    "            w1 = np.clip(w1, 0, result.shape[1])\n",
    "\n",
    "            w2 = top_left[0] + w//2 + 1\n",
    "            w2 = np.clip(w2, 0, result.shape[1])\n",
    "            \n",
    "            # poison the result in the vicinity of this match so it isn't found again\n",
    "            result[h1:h2, w1:w2] = 1\n",
    "            \n",
    "            # look for next match\n",
    "            min_val, max_val, min_loc, max_loc = cv2.minMaxLoc(result)\n",
    "            \n",
    "    if EXPORT_IMAGE:\n",
    "        cv2.imwrite(os.path.join(CHESS_BOARD_OUTPUT_DIR, boardName + '.jpg'), boardImage)\n",
    "        \n",
    "    if SHOW_IMAGE:\n",
    "        cv2.imshow(boardName, boardImage)"
   ]
  },
  {
   "cell_type": "code",
   "execution_count": 7,
   "id": "da9193e1-e591-42a8-81fd-b8b1e98ca89f",
   "metadata": {
    "tags": []
   },
   "outputs": [],
   "source": [
    "for boardName in chessBoardImages:\n",
    "    detectPieceOfChess(boardName, chessBoardImages[boardName])"
   ]
  },
  {
   "cell_type": "code",
   "execution_count": null,
   "id": "8bdabd10-0cc4-4a45-b5d1-ec6b4446a48f",
   "metadata": {},
   "outputs": [],
   "source": [
    "cv2.waitKey(0)\n",
    "cv2.destroyAllWindows()"
   ]
  }
 ],
 "metadata": {
  "kernelspec": {
   "display_name": "Python 3 (ipykernel)",
   "language": "python",
   "name": "python3"
  },
  "language_info": {
   "codemirror_mode": {
    "name": "ipython",
    "version": 3
   },
   "file_extension": ".py",
   "mimetype": "text/x-python",
   "name": "python",
   "nbconvert_exporter": "python",
   "pygments_lexer": "ipython3",
   "version": "3.11.2"
  }
 },
 "nbformat": 4,
 "nbformat_minor": 5
}
